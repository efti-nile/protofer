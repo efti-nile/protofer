{
  "cells": [
    {
      "cell_type": "code",
      "execution_count": 1,
      "metadata": {
        "gather": {
          "logged": 1677985034827
        },
        "jupyter": {
          "outputs_hidden": false,
          "source_hidden": false
        },
        "nteract": {
          "transient": {
            "deleting": false
          }
        }
      },
      "outputs": [
        {
          "name": "stdout",
          "output_type": "stream",
          "text": [
            "Requirement already satisfied: albumentations in /anaconda/envs/azureml_py38_PT_TF/lib/python3.8/site-packages (1.3.1)\n",
            "Requirement already satisfied: scikit-image>=0.16.1 in /anaconda/envs/azureml_py38_PT_TF/lib/python3.8/site-packages (from albumentations) (0.21.0)\n",
            "Requirement already satisfied: scipy>=1.1.0 in /anaconda/envs/azureml_py38_PT_TF/lib/python3.8/site-packages (from albumentations) (1.10.1)\n",
            "Requirement already satisfied: numpy>=1.11.1 in /anaconda/envs/azureml_py38_PT_TF/lib/python3.8/site-packages (from albumentations) (1.23.5)\n",
            "Requirement already satisfied: PyYAML in /anaconda/envs/azureml_py38_PT_TF/lib/python3.8/site-packages (from albumentations) (6.0)\n",
            "Requirement already satisfied: qudida>=0.0.4 in /anaconda/envs/azureml_py38_PT_TF/lib/python3.8/site-packages (from albumentations) (0.0.4)\n",
            "Requirement already satisfied: opencv-python-headless>=4.1.1 in /anaconda/envs/azureml_py38_PT_TF/lib/python3.8/site-packages (from albumentations) (4.8.0.76)\n",
            "Requirement already satisfied: typing-extensions in /anaconda/envs/azureml_py38_PT_TF/lib/python3.8/site-packages (from qudida>=0.0.4->albumentations) (4.6.3)\n",
            "Requirement already satisfied: scikit-learn>=0.19.1 in /anaconda/envs/azureml_py38_PT_TF/lib/python3.8/site-packages (from qudida>=0.0.4->albumentations) (1.2.2)\n",
            "Requirement already satisfied: PyWavelets>=1.1.1 in /anaconda/envs/azureml_py38_PT_TF/lib/python3.8/site-packages (from scikit-image>=0.16.1->albumentations) (1.4.1)\n",
            "Requirement already satisfied: imageio>=2.27 in /anaconda/envs/azureml_py38_PT_TF/lib/python3.8/site-packages (from scikit-image>=0.16.1->albumentations) (2.31.3)\n",
            "Requirement already satisfied: lazy_loader>=0.2 in /anaconda/envs/azureml_py38_PT_TF/lib/python3.8/site-packages (from scikit-image>=0.16.1->albumentations) (0.3)\n",
            "Requirement already satisfied: pillow>=9.0.1 in /anaconda/envs/azureml_py38_PT_TF/lib/python3.8/site-packages (from scikit-image>=0.16.1->albumentations) (9.5.0)\n",
            "Requirement already satisfied: packaging>=21 in /anaconda/envs/azureml_py38_PT_TF/lib/python3.8/site-packages (from scikit-image>=0.16.1->albumentations) (23.1)\n",
            "Requirement already satisfied: networkx>=2.8 in /anaconda/envs/azureml_py38_PT_TF/lib/python3.8/site-packages (from scikit-image>=0.16.1->albumentations) (3.1)\n",
            "Requirement already satisfied: tifffile>=2022.8.12 in /anaconda/envs/azureml_py38_PT_TF/lib/python3.8/site-packages (from scikit-image>=0.16.1->albumentations) (2023.7.10)\n",
            "Requirement already satisfied: joblib>=1.1.1 in /anaconda/envs/azureml_py38_PT_TF/lib/python3.8/site-packages (from scikit-learn>=0.19.1->qudida>=0.0.4->albumentations) (1.2.0)\n",
            "Requirement already satisfied: threadpoolctl>=2.0.0 in /anaconda/envs/azureml_py38_PT_TF/lib/python3.8/site-packages (from scikit-learn>=0.19.1->qudida>=0.0.4->albumentations) (3.1.0)\n",
            "Note: you may need to restart the kernel to use updated packages.\n"
          ]
        }
      ],
      "source": [
        "%pip install -U albumentations"
      ]
    },
    {
      "cell_type": "code",
      "execution_count": 2,
      "metadata": {
        "gather": {
          "logged": 1678241810853
        }
      },
      "outputs": [
        {
          "name": "stderr",
          "output_type": "stream",
          "text": [
            "/anaconda/envs/azureml_py38_PT_TF/lib/python3.8/site-packages/tqdm/auto.py:21: TqdmWarning: IProgress not found. Please update jupyter and ipywidgets. See https://ipywidgets.readthedocs.io/en/stable/user_install.html\n",
            "  from .autonotebook import tqdm as notebook_tqdm\n"
          ]
        }
      ],
      "source": [
        "%matplotlib inline\n",
        "%config InlineBackend.figure_format = 'retina'\n",
        "\n",
        "import matplotlib.pyplot as plt\n",
        "from pandas.core.common import flatten\n",
        "import copy\n",
        "import numpy as np\n",
        "import random\n",
        "\n",
        "import torch\n",
        "from torch import nn\n",
        "from torch import optim\n",
        "import torch.nn.functional as F\n",
        "from torchvision import datasets, transforms, models\n",
        "from torch.utils.data import Dataset, DataLoader\n",
        "\n",
        "import albumentations as A\n",
        "from albumentations.pytorch import ToTensorV2\n",
        "import cv2\n",
        "\n",
        "import glob\n",
        "import os\n",
        "from tqdm import tqdm"
      ]
    },
    {
      "attachments": {},
      "cell_type": "markdown",
      "metadata": {
        "nteract": {
          "transient": {
            "deleting": false
          }
        }
      },
      "source": [
        "# Parameters"
      ]
    },
    {
      "cell_type": "code",
      "execution_count": 3,
      "metadata": {
        "gather": {
          "logged": 1678241820027
        },
        "jupyter": {
          "outputs_hidden": false,
          "source_hidden": false
        },
        "nteract": {
          "transient": {
            "deleting": false
          }
        }
      },
      "outputs": [],
      "source": [
        "# subscription_id=\"36ac59f4-4776-4409-ab97-fbcd4213ea32\"\n",
        "# resource_group_name=\"n.v.selivanov-rg\"\n",
        "# workspace_name=\"sweet-paws\"\n",
        "# datastore_name = \"workspaceblobstore\"\n",
        "\n",
        "data_uri = f\"https://sweetpaws5552855935.blob.core.windows.net/azureml-blobstore-fa7a92d8-39c7-427a-b9b4-116ce9a104ba/fer2013.zip\"\n",
        "data_path = \"/home/azureuser/protofer/data/fer2013\""
      ]
    },
    {
      "attachments": {},
      "cell_type": "markdown",
      "metadata": {
        "nteract": {
          "transient": {
            "deleting": false
          }
        }
      },
      "source": [
        "# Download Data"
      ]
    },
    {
      "cell_type": "code",
      "execution_count": 4,
      "metadata": {
        "gather": {
          "logged": 1677985035652
        },
        "jupyter": {
          "outputs_hidden": false,
          "source_hidden": false
        },
        "nteract": {
          "transient": {
            "deleting": false
          }
        }
      },
      "outputs": [],
      "source": [
        "# !mkdir /home/azureuser/data"
      ]
    },
    {
      "cell_type": "code",
      "execution_count": 5,
      "metadata": {
        "gather": {
          "logged": 1677985036217
        },
        "jupyter": {
          "outputs_hidden": false,
          "source_hidden": false
        },
        "nteract": {
          "transient": {
            "deleting": false
          }
        }
      },
      "outputs": [],
      "source": [
        "# !azcopy logout\n",
        "# !azcopy login --tenant-id=81aa9791-5f20-4a63-9ee9-94df31fad662"
      ]
    },
    {
      "cell_type": "code",
      "execution_count": 6,
      "metadata": {
        "gather": {
          "logged": 1677985036629
        },
        "jupyter": {
          "outputs_hidden": false,
          "source_hidden": false
        },
        "nteract": {
          "transient": {
            "deleting": false
          }
        }
      },
      "outputs": [],
      "source": [
        "# !azcopy cp {data_uri} {data_path}"
      ]
    },
    {
      "cell_type": "code",
      "execution_count": 7,
      "metadata": {
        "gather": {
          "logged": 1677985037038
        },
        "jupyter": {
          "outputs_hidden": false,
          "source_hidden": false
        },
        "nteract": {
          "transient": {
            "deleting": false
          }
        }
      },
      "outputs": [],
      "source": [
        "# !unzip \"/home/azureuser/data/fer2013.zip\" -d \"/home/azureuser/data\""
      ]
    },
    {
      "attachments": {},
      "cell_type": "markdown",
      "metadata": {
        "nteract": {
          "transient": {
            "deleting": false
          }
        }
      },
      "source": [
        "# Data Transforms"
      ]
    },
    {
      "cell_type": "code",
      "execution_count": 8,
      "metadata": {
        "gather": {
          "logged": 1678241831214
        },
        "jupyter": {
          "outputs_hidden": false,
          "source_hidden": false
        },
        "nteract": {
          "transient": {
            "deleting": false
          }
        }
      },
      "outputs": [],
      "source": [
        "train_transforms = A.Compose(\n",
        "    [\n",
        "        # A.SmallestMaxSize(max_size=350),\n",
        "        # A.ShiftScaleRotate(shift_limit=0.05, scale_limit=0.05, rotate_limit=360, p=0.5),\n",
        "        # A.RandomCrop(height=256, width=256),\n",
        "        # A.RGBShift(r_shift_limit=15, g_shift_limit=15, b_shift_limit=15, p=0.5),\n",
        "        A.RandomBrightnessContrast(p=0.5),\n",
        "        A.MultiplicativeNoise(multiplier=[0.5, 2], per_channel=True, p=0.2),\n",
        "        # A.Normalize(mean=(0.485, 0.456, 0.406), std=(0.229, 0.224, 0.225)),\n",
        "        A.Normalize(mean=.45, std=0.225),\n",
        "        # A.HueSaturationValue(hue_shift_limit=0.2, sat_shift_limit=0.2, val_shift_limit=0.2, p=0.5),\n",
        "        A.RandomBrightnessContrast(brightness_limit=(-0.1,0.1), contrast_limit=(-0.1, 0.1), p=0.5),\n",
        "        ToTensorV2(),\n",
        "    ]\n",
        ")\n",
        "\n",
        "test_transforms = train_transforms\n",
        "\n",
        "# test_transforms = A.Compose(\n",
        "#     [\n",
        "#         # A.SmallestMaxSize(max_size=350),\n",
        "#         # A.CenterCrop(height=256, width=256),\n",
        "#         # A.Normalize(mean=(0.485, 0.456, 0.406), std=(0.229, 0.224, 0.225)),\n",
        "#         A.Normalize(mean=.45, std=0.225),\n",
        "#         ToTensorV2(),\n",
        "#     ]\n",
        "# )"
      ]
    },
    {
      "attachments": {},
      "cell_type": "markdown",
      "metadata": {
        "nteract": {
          "transient": {
            "deleting": false
          }
        }
      },
      "source": [
        "# Data\n",
        "## Prepare"
      ]
    },
    {
      "cell_type": "code",
      "execution_count": 9,
      "metadata": {
        "gather": {
          "logged": 1678241836037
        },
        "jupyter": {
          "outputs_hidden": false,
          "source_hidden": false
        },
        "nteract": {
          "transient": {
            "deleting": false
          }
        }
      },
      "outputs": [],
      "source": [
        "train_data_path = os.path.join(data_path, 'train')\n",
        "test_data_path = os.path.join(data_path, 'test')"
      ]
    },
    {
      "cell_type": "code",
      "execution_count": 10,
      "metadata": {
        "gather": {
          "logged": 1678241839184
        },
        "jupyter": {
          "outputs_hidden": false,
          "source_hidden": false
        },
        "nteract": {
          "transient": {
            "deleting": false
          }
        }
      },
      "outputs": [
        {
          "data": {
            "text/plain": [
              "['neutral', 'surprise', 'fear', 'angry', 'disgust', 'sad', 'happy']"
            ]
          },
          "execution_count": 10,
          "metadata": {},
          "output_type": "execute_result"
        }
      ],
      "source": [
        "classes = []\n",
        "train_image_paths = []\n",
        "\n",
        "for data_path in glob.glob(train_data_path + '/*'):\n",
        "    classes.append(data_path.split('/')[-1]) \n",
        "    train_image_paths.append(glob.glob(data_path + '/*.jpg'))\n",
        "\n",
        "train_image_paths = list(flatten(train_image_paths))\n",
        "random.shuffle(train_image_paths)\n",
        "\n",
        "classes"
      ]
    },
    {
      "cell_type": "code",
      "execution_count": 11,
      "metadata": {
        "gather": {
          "logged": 1678241842938
        },
        "jupyter": {
          "outputs_hidden": false,
          "source_hidden": false
        },
        "nteract": {
          "transient": {
            "deleting": false
          }
        }
      },
      "outputs": [],
      "source": [
        "# Split train and valid datasets\n",
        "train_image_paths, valid_image_paths = train_image_paths[:int(0.8*len(train_image_paths))], train_image_paths[int(0.8*len(train_image_paths)):]"
      ]
    },
    {
      "cell_type": "code",
      "execution_count": 12,
      "metadata": {
        "gather": {
          "logged": 1678241845992
        },
        "jupyter": {
          "outputs_hidden": false,
          "source_hidden": false
        },
        "nteract": {
          "transient": {
            "deleting": false
          }
        }
      },
      "outputs": [],
      "source": [
        "# Test dataset\n",
        "test_image_paths = []\n",
        "for data_path in glob.glob(test_data_path + '/*'):\n",
        "    test_image_paths.append(glob.glob(data_path + '/*'))\n",
        "\n",
        "test_image_paths = list(flatten(test_image_paths))"
      ]
    },
    {
      "cell_type": "code",
      "execution_count": 13,
      "metadata": {
        "gather": {
          "logged": 1678241849426
        },
        "jupyter": {
          "outputs_hidden": false,
          "source_hidden": false
        },
        "nteract": {
          "transient": {
            "deleting": false
          }
        }
      },
      "outputs": [
        {
          "name": "stdout",
          "output_type": "stream",
          "text": [
            "Train size: 22967\n",
            "Valid size: 5742\n",
            "Test size: 7178\n"
          ]
        }
      ],
      "source": [
        "print(\"Train size: {}\\nValid size: {}\\nTest size: {}\".format(len(train_image_paths), len(valid_image_paths), len(test_image_paths)))"
      ]
    },
    {
      "cell_type": "code",
      "execution_count": 14,
      "metadata": {
        "gather": {
          "logged": 1678241853956
        },
        "jupyter": {
          "outputs_hidden": false,
          "source_hidden": false
        },
        "nteract": {
          "transient": {
            "deleting": false
          }
        }
      },
      "outputs": [],
      "source": [
        "# Encode classes\n",
        "idx_to_class = {i:j for i, j in enumerate(classes)}\n",
        "class_to_idx = {value:key for key,value in idx_to_class.items()}"
      ]
    },
    {
      "attachments": {},
      "cell_type": "markdown",
      "metadata": {
        "nteract": {
          "transient": {
            "deleting": false
          }
        }
      },
      "source": [
        "## Class Counts\n",
        "### Train"
      ]
    },
    {
      "cell_type": "code",
      "execution_count": 15,
      "metadata": {
        "gather": {
          "logged": 1678241856965
        },
        "jupyter": {
          "outputs_hidden": false,
          "source_hidden": false
        },
        "nteract": {
          "transient": {
            "deleting": false
          }
        }
      },
      "outputs": [
        {
          "name": "stdout",
          "output_type": "stream",
          "text": [
            "~~~ TRAIN ~~~\n",
            "neutral images: 4965\n",
            "surprise images: 3171\n",
            "fear images: 4097\n",
            "angry images: 3995\n",
            "disgust images: 436\n",
            "sad images: 4830\n",
            "happy images: 7215\n",
            "~~~ TEST ~~~\n",
            "neutral images: 1233\n",
            "surprise images: 831\n",
            "fear images: 1024\n",
            "angry images: 958\n",
            "disgust images: 111\n",
            "sad images: 1247\n",
            "happy images: 1774\n"
          ]
        }
      ],
      "source": [
        "print('~~~ TRAIN ~~~')\n",
        "for cls in classes:\n",
        "    print(f'{cls} images: {len(os.listdir(os.path.join(train_data_path, cls)))}')\n",
        "\n",
        "print('~~~ TEST ~~~')\n",
        "for cls in classes:\n",
        "    print(f'{cls} images: {len(os.listdir(os.path.join(test_data_path, cls)))}')"
      ]
    },
    {
      "attachments": {},
      "cell_type": "markdown",
      "metadata": {
        "nteract": {
          "transient": {
            "deleting": false
          }
        }
      },
      "source": [
        "## Dataset Class"
      ]
    },
    {
      "cell_type": "code",
      "execution_count": 16,
      "metadata": {
        "gather": {
          "logged": 1678241877042
        },
        "jupyter": {
          "outputs_hidden": false,
          "source_hidden": false
        },
        "nteract": {
          "transient": {
            "deleting": false
          }
        }
      },
      "outputs": [],
      "source": [
        "class FerDataset(Dataset):\n",
        "    def __init__(self, image_paths, transform=None):\n",
        "        self.image_paths = image_paths\n",
        "        self.transform = transform\n",
        "        \n",
        "    def __len__(self):\n",
        "        return len(self.image_paths)\n",
        "\n",
        "    def __getitem__(self, idx):\n",
        "        image_filepath = self.image_paths[idx]\n",
        "        image = cv2.imread(image_filepath)\n",
        "        image = cv2.cvtColor(image, cv2.COLOR_BGR2GRAY)\n",
        "        \n",
        "        label = image_filepath.split('/')[-2]\n",
        "        label = class_to_idx[label]\n",
        "        if self.transform is not None:\n",
        "            image = self.transform(image=image)[\"image\"]\n",
        "        \n",
        "        return image, label"
      ]
    },
    {
      "cell_type": "code",
      "execution_count": 17,
      "metadata": {
        "gather": {
          "logged": 1678241879601
        },
        "jupyter": {
          "outputs_hidden": false,
          "source_hidden": false
        },
        "nteract": {
          "transient": {
            "deleting": false
          }
        }
      },
      "outputs": [],
      "source": [
        "train_dataset = FerDataset(train_image_paths, train_transforms)\n",
        "valid_dataset = FerDataset(valid_image_paths, test_transforms)\n",
        "test_dataset = FerDataset(test_image_paths, test_transforms)"
      ]
    },
    {
      "cell_type": "code",
      "execution_count": 18,
      "metadata": {
        "gather": {
          "logged": 1678241882818
        },
        "jupyter": {
          "outputs_hidden": false,
          "source_hidden": false
        },
        "nteract": {
          "transient": {
            "deleting": false
          }
        }
      },
      "outputs": [
        {
          "name": "stdout",
          "output_type": "stream",
          "text": [
            "The shape of tensor for 50th image in train dataset:  torch.Size([1, 48, 48])\n",
            "The label for 50th image in train dataset:  3\n"
          ]
        }
      ],
      "source": [
        "print('The shape of tensor for 50th image in train dataset: ', train_dataset[49][0].shape)\n",
        "print('The label for 50th image in train dataset: ', train_dataset[49][1])"
      ]
    },
    {
      "attachments": {},
      "cell_type": "markdown",
      "metadata": {
        "nteract": {
          "transient": {
            "deleting": false
          }
        }
      },
      "source": [
        "## Visualize Augmented Images"
      ]
    },
    {
      "cell_type": "code",
      "execution_count": 19,
      "metadata": {
        "gather": {
          "logged": 1678241891641
        },
        "jupyter": {
          "outputs_hidden": false,
          "source_hidden": false
        },
        "nteract": {
          "transient": {
            "deleting": false
          }
        }
      },
      "outputs": [
        {
          "data": {
            "image/png": "[encoded data removed]",
            "text/plain": [
              "<Figure size 1200x800 with 10 Axes>"
            ]
          },
          "metadata": {
            "image/png": {
              "height": 609,
              "width": 1192
            }
          },
          "output_type": "display_data"
        }
      ],
      "source": [
        "import matplotlib.pyplot as plt\n",
        "%matplotlib inline\n",
        "\n",
        "\n",
        "def visualize_augmentations(dataset, idx=0, samples=10, cols=5, random_img = False):\n",
        "    \n",
        "    dataset = copy.deepcopy(dataset)\n",
        "    #we remove the normalize and tensor conversion from our augmentation pipeline\n",
        "    dataset.transform = A.Compose([t for t in dataset.transform if not isinstance(t, (A.Normalize, ToTensorV2))])\n",
        "    rows = samples // cols\n",
        "      \n",
        "    figure, ax = plt.subplots(nrows=rows, ncols=cols, figsize=(12, 8))\n",
        "    for i in range(samples):\n",
        "        if random_img:\n",
        "            idx = np.random.randint(1,len(train_image_paths))\n",
        "        image, lab = dataset[idx]\n",
        "        ax.ravel()[i].imshow(image)\n",
        "        ax.ravel()[i].set_axis_off()\n",
        "        ax.ravel()[i].set_title(idx_to_class[lab])\n",
        "    plt.tight_layout(pad=1)\n",
        "    plt.show()    \n",
        "\n",
        "visualize_augmentations(train_dataset,np.random.randint(1,len(train_image_paths)), random_img = True)"
      ]
    },
    {
      "attachments": {},
      "cell_type": "markdown",
      "metadata": {
        "nteract": {
          "transient": {
            "deleting": false
          }
        }
      },
      "source": [
        "## Data Loaders"
      ]
    },
    {
      "cell_type": "code",
      "execution_count": 20,
      "metadata": {
        "gather": {
          "logged": 1678241899971
        },
        "jupyter": {
          "outputs_hidden": false,
          "source_hidden": false
        },
        "nteract": {
          "transient": {
            "deleting": false
          }
        }
      },
      "outputs": [],
      "source": [
        "batch_size = 2\n",
        "\n",
        "train_loader = DataLoader(\n",
        "    train_dataset, batch_size=batch_size, shuffle=True\n",
        ")\n",
        "\n",
        "valid_loader = DataLoader(\n",
        "    valid_dataset, batch_size=batch_size, shuffle=True\n",
        ")\n",
        "\n",
        "test_loader = DataLoader(\n",
        "    test_dataset, batch_size=batch_size, shuffle=False\n",
        ")"
      ]
    },
    {
      "cell_type": "code",
      "execution_count": 21,
      "metadata": {},
      "outputs": [
        {
          "name": "stdout",
          "output_type": "stream",
          "text": [
            "torch.Size([2, 1, 48, 48])\n"
          ]
        }
      ],
      "source": [
        "tl = DataLoader(\n",
        "    train_dataset, batch_size=batch_size, shuffle=True\n",
        ")\n",
        "images, labels = next(iter(tl))\n",
        "print(images.shape)"
      ]
    },
    {
      "cell_type": "code",
      "execution_count": 22,
      "metadata": {},
      "outputs": [
        {
          "data": {
            "text/plain": [
              "torch.Size([48, 48])"
            ]
          },
          "execution_count": 22,
          "metadata": {},
          "output_type": "execute_result"
        }
      ],
      "source": [
        "image = images[0, 0, :, :]\n",
        "image.shape"
      ]
    },
    {
      "cell_type": "code",
      "execution_count": 23,
      "metadata": {},
      "outputs": [
        {
          "name": "stdout",
          "output_type": "stream",
          "text": [
            "tensor(0.)\n",
            "tensor(0.)\n",
            "tensor(0.)\n",
            "tensor(0.)\n",
            "tensor(0.)\n",
            "tensor(0.)\n",
            "tensor(0.)\n",
            "tensor(0.)\n",
            "tensor(0.)\n",
            "tensor(0.)\n",
            "tensor(0.)\n",
            "tensor(0.)\n",
            "tensor(0.)\n",
            "tensor(0.)\n",
            "tensor(0.)\n",
            "tensor(0.)\n",
            "tensor(0.)\n",
            "tensor(0.)\n",
            "tensor(0.)\n",
            "tensor(0.)\n",
            "tensor(0.)\n",
            "tensor(0.)\n",
            "tensor(0.)\n",
            "tensor(0.1890)\n",
            "tensor(0.1169)\n",
            "tensor(0.)\n",
            "tensor(0.)\n",
            "tensor(0.)\n",
            "tensor(0.)\n",
            "tensor(0.)\n",
            "tensor(0.)\n",
            "tensor(0.)\n",
            "tensor(0.)\n",
            "tensor(0.)\n",
            "tensor(0.)\n",
            "tensor(0.)\n",
            "tensor(0.)\n",
            "tensor(0.)\n",
            "tensor(0.)\n",
            "tensor(0.)\n",
            "tensor(1.)\n",
            "tensor(1.)\n",
            "tensor(1.)\n",
            "tensor(1.)\n",
            "tensor(1.)\n",
            "tensor(0.8924)\n",
            "tensor(0.)\n",
            "tensor(0.)\n"
          ]
        }
      ],
      "source": [
        "for i in range(48):\n",
        "    print(image[i, i])"
      ]
    },
    {
      "cell_type": "code",
      "execution_count": 24,
      "metadata": {},
      "outputs": [
        {
          "data": {
            "text/plain": [
              "<matplotlib.image.AxesImage at 0x7fbc5061b340>"
            ]
          },
          "execution_count": 24,
          "metadata": {},
          "output_type": "execute_result"
        },
        {
          "data": {
            "image/png": "[encoded data removed]",
            "text/plain": [
              "<Figure size 640x480 with 1 Axes>"
            ]
          },
          "metadata": {
            "image/png": {
              "height": 414,
              "width": 417
            }
          },
          "output_type": "display_data"
        }
      ],
      "source": [
        "plt.imshow(image)"
      ]
    },
    {
      "attachments": {},
      "cell_type": "markdown",
      "metadata": {
        "nteract": {
          "transient": {
            "deleting": false
          }
        }
      },
      "source": [
        "# Training"
      ]
    },
    {
      "attachments": {},
      "cell_type": "markdown",
      "metadata": {
        "nteract": {
          "transient": {
            "deleting": false
          }
        }
      },
      "source": [
        "Implementing Model B:\n",
        "![cnn-diagram](https://github.com/amineHorseman/facial-expression-recognition-using-cnn/raw/master/img/CNN_models_architecture.png)"
      ]
    },
    {
      "cell_type": "code",
      "execution_count": 25,
      "metadata": {},
      "outputs": [],
      "source": [
        "# Define relevant variables for the ML task\n",
        "num_classes = len(classes)\n",
        "learning_rate = 0.001\n",
        "num_epochs = 100\n",
        "\n",
        "# Device will determine whether to run the training on GPU or CPU.\n",
        "device = torch.device('cuda' if torch.cuda.is_available() else 'cpu')"
      ]
    },
    {
      "cell_type": "code",
      "execution_count": 27,
      "metadata": {},
      "outputs": [],
      "source": [
        "class ConvNeuralNet(nn.Module):\n",
        "\n",
        "    def __init__(self, num_classes):\n",
        "        super(ConvNeuralNet, self).__init__()\n",
        "        self.conv_layer1 = nn.Conv2d(in_channels=1, out_channels=32, kernel_size=4, stride=2)\n",
        "        self.dropout1 = nn.Dropout2d(p=.8)\n",
        "        self.relu1 = nn.ReLU()\n",
        "        \n",
        "        self.conv_layer2 = nn.Conv2d(in_channels=32, out_channels=64, kernel_size=3, stride=2)\n",
        "        self.dropout2 = nn.Dropout2d(p=.8)\n",
        "        self.relu2 = nn.ReLU()\n",
        "        \n",
        "        self.conv_layer3 = nn.Conv2d(in_channels=64, out_channels=128, kernel_size=3, stride=2)\n",
        "        self.dropout3 = nn.Dropout3d(p=.8)\n",
        "        self.relu3 = nn.ReLU()\n",
        "        \n",
        "        self.fc1 = nn.Linear(3200, 128)\n",
        "        self.relu1 = nn.ReLU()\n",
        "        self.fc2 = nn.Linear(128, num_classes)\n",
        "    \n",
        "    def forward(self, x):\n",
        "        out = self.conv_layer1(x)\n",
        "        out = self.dropout1(out)\n",
        "        out = self.relu1(out)\n",
        "\n",
        "        out = self.conv_layer2(out)\n",
        "        out = self.dropout2(out)\n",
        "        out = self.relu2(out)\n",
        "        \n",
        "        out = self.conv_layer3(out)\n",
        "        out = self.dropout3(out)\n",
        "        out = self.relu3(out)\n",
        "                \n",
        "        out = out.reshape(out.size(0), -1)\n",
        "        \n",
        "        out = self.fc1(out)\n",
        "        out = self.relu1(out)\n",
        "        out = self.fc2(out)\n",
        "        return out"
      ]
    },
    {
      "cell_type": "code",
      "execution_count": 28,
      "metadata": {},
      "outputs": [
        {
          "data": {
            "text/plain": [
              "503527"
            ]
          },
          "execution_count": 28,
          "metadata": {},
          "output_type": "execute_result"
        }
      ],
      "source": [
        "m = ConvNeuralNet(num_classes)\n",
        "params = sum(p.numel() for p in m.parameters())\n",
        "params"
      ]
    },
    {
      "cell_type": "code",
      "execution_count": 29,
      "metadata": {
        "gather": {
          "logged": 1678242084243
        },
        "jupyter": {
          "outputs_hidden": false,
          "source_hidden": false
        },
        "nteract": {
          "transient": {
            "deleting": false
          }
        }
      },
      "outputs": [
        {
          "name": "stdout",
          "output_type": "stream",
          "text": [
            "Epoch [1/100], Loss: 2.0262\n",
            "Epoch [2/100], Loss: 1.4045\n",
            "Epoch [3/100], Loss: 1.7852\n",
            "Epoch [4/100], Loss: 1.7959\n",
            "Epoch [5/100], Loss: 2.1782\n",
            "Epoch [6/100], Loss: 1.7237\n",
            "Epoch [7/100], Loss: 1.4078\n",
            "Epoch [8/100], Loss: 1.9410\n",
            "Epoch [9/100], Loss: 1.7469\n",
            "Epoch [10/100], Loss: 2.0040\n",
            "Epoch [11/100], Loss: 1.4866\n",
            "Epoch [12/100], Loss: 1.7733\n",
            "Epoch [13/100], Loss: 1.8135\n",
            "Epoch [14/100], Loss: 2.0296\n",
            "Epoch [15/100], Loss: 1.9449\n",
            "Epoch [16/100], Loss: 1.4271\n",
            "Epoch [17/100], Loss: 1.8960\n",
            "Epoch [18/100], Loss: 1.6914\n",
            "Epoch [19/100], Loss: 1.3904\n",
            "Epoch [20/100], Loss: 1.3545\n",
            "Epoch [21/100], Loss: 1.9199\n",
            "Epoch [22/100], Loss: 1.8920\n",
            "Epoch [23/100], Loss: 1.9209\n",
            "Epoch [24/100], Loss: 1.9969\n",
            "Epoch [25/100], Loss: 1.4582\n",
            "Epoch [26/100], Loss: 2.0025\n",
            "Epoch [27/100], Loss: 1.8978\n",
            "Epoch [28/100], Loss: 1.9618\n",
            "Epoch [29/100], Loss: 3.8958\n",
            "Epoch [30/100], Loss: 1.7011\n",
            "Epoch [31/100], Loss: 1.8860\n",
            "Epoch [32/100], Loss: 1.3870\n",
            "Epoch [33/100], Loss: 1.4102\n",
            "Epoch [34/100], Loss: 2.2591\n",
            "Epoch [35/100], Loss: 1.5356\n",
            "Epoch [36/100], Loss: 1.9878\n",
            "Epoch [37/100], Loss: 2.2845\n",
            "Epoch [38/100], Loss: 1.9092\n",
            "Epoch [39/100], Loss: 2.0597\n",
            "Epoch [40/100], Loss: 1.5370\n",
            "Epoch [41/100], Loss: 1.8528\n",
            "Epoch [42/100], Loss: 2.2624\n",
            "Epoch [43/100], Loss: 1.9616\n",
            "Epoch [44/100], Loss: 1.3830\n",
            "Epoch [45/100], Loss: 1.7544\n",
            "Epoch [46/100], Loss: 1.6498\n",
            "Epoch [47/100], Loss: 1.3369\n",
            "Epoch [48/100], Loss: 2.1751\n",
            "Epoch [49/100], Loss: 2.0484\n",
            "Epoch [50/100], Loss: 1.7144\n",
            "Epoch [51/100], Loss: 1.9925\n",
            "Epoch [52/100], Loss: 1.8957\n",
            "Epoch [53/100], Loss: 2.0469\n",
            "Epoch [54/100], Loss: 1.9864\n",
            "Epoch [55/100], Loss: 1.9026\n",
            "Epoch [56/100], Loss: 1.7846\n",
            "Epoch [57/100], Loss: 1.9823\n",
            "Epoch [58/100], Loss: 1.8195\n",
            "Epoch [59/100], Loss: 1.9100\n",
            "Epoch [60/100], Loss: 1.8253\n",
            "Epoch [61/100], Loss: 1.4976\n",
            "Epoch [62/100], Loss: 1.7868\n",
            "Epoch [63/100], Loss: 1.9615\n",
            "Epoch [64/100], Loss: 1.9278\n",
            "Epoch [65/100], Loss: 1.3914\n",
            "Epoch [66/100], Loss: 1.4212\n",
            "Epoch [67/100], Loss: 1.9600\n",
            "Epoch [68/100], Loss: 1.7810\n",
            "Epoch [69/100], Loss: 2.0667\n",
            "Epoch [70/100], Loss: 1.3974\n",
            "Epoch [71/100], Loss: 1.9637\n",
            "Epoch [72/100], Loss: 1.4180\n",
            "Epoch [73/100], Loss: 1.3717\n",
            "Epoch [74/100], Loss: 1.5226\n",
            "Epoch [75/100], Loss: 1.7615\n",
            "Epoch [76/100], Loss: 1.8578\n",
            "Epoch [77/100], Loss: 1.7864\n",
            "Epoch [78/100], Loss: 1.9137\n"
          ]
        },
        {
          "name": "stderr",
          "output_type": "stream",
          "text": [
            "Bad pipe message: %s [b'\\xa0l\\x90\\x17\\xd8\\xbe;\\xf1@\\x13']\n",
            "Bad pipe message: %s [b\"\\xd1\\xa0rp\\x8fI )\\xaa\\t\\xd8\\x96\\x9c\\xa5\\x98\\xe77{#\\\\\\x94\\x02\\xdcW\\xf1\\xfc\\xe3\\xe9\\x8b\\xf8\\xb1.*\\xf7wt%'{\\x00\\x08\\x13\\x02\\x13\\x03\\x13\\x01\\x00\\xff\\x01\\x00\\x00\\x8f\\x00\\x00\\x00\\x0e\\x00\\x0c\\x00\\x00\\t127.0.0.1\\x00\\x0b\\x00\\x04\\x03\\x00\\x01\\x02\\x00\\n\\x00\\x0c\\x00\\n\\x00\\x1d\\x00\\x17\\x00\\x1e\\x00\\x19\\x00\\x18\\x00#\\x00\\x00\\x00\\x16\\x00\\x00\\x00\\x17\\x00\\x00\\x00\\r\\x00\\x1e\\x00\\x1c\\x04\\x03\\x05\\x03\\x06\\x03\\x08\\x07\\x08\\x08\\x08\\t\\x08\\n\\x08\\x0b\\x08\\x04\\x08\\x05\\x08\\x06\\x04\\x01\\x05\\x01\\x06\\x01\\x00+\\x00\\x03\\x02\\x03\\x04\\x00-\\x00\\x02\\x01\\x01\\x003\\x00&\\x00\"]\n",
            "Bad pipe message: %s [b'\\x1d\\x00 \\xc8\\xbf\\x8a-\\xd5\\x83|\\x1a?\\xdaKcw[\\xe3\\xae+v\\xf6%\\xf9\\xa9tMmG\\x8c\\xa3\\x1d\\xd6\\xa3d']\n",
            "Bad pipe message: %s [b\"\\xa2;\\x9e\\xf0)\\xf2\\xbf#6\\xccK=#\\x15\\x18l\\xa0\\x9e\\x00\\x00|\\xc0,\\xc00\\x00\\xa3\\x00\\x9f\\xcc\\xa9\\xcc\\xa8\\xcc\\xaa\\xc0\\xaf\\xc0\\xad\\xc0\\xa3\\xc0\\x9f\\xc0]\\xc0a\\xc0W\\xc0S\\xc0+\\xc0/\\x00\\xa2\\x00\\x9e\\xc0\\xae\\xc0\\xac\\xc0\\xa2\\xc0\\x9e\\xc0\\\\\\xc0`\\xc0V\\xc0R\\xc0$\\xc0(\\x00k\\x00j\\xc0#\\xc0'\\x00g\\x00@\\xc0\\n\\xc0\\x14\\x009\\x008\\xc0\\t\\xc0\\x13\\x003\\x002\\x00\\x9d\\xc0\\xa1\\xc0\\x9d\\xc0Q\\x00\\x9c\\xc0\\xa0\\xc0\\x9c\\xc0P\\x00=\\x00<\\x005\\x00/\\x00\\x9a\\x00\\x99\\xc0\\x07\\xc0\\x11\\x00\\x96\\x00\\x05\\x00\\xff\\x01\\x00\\x00j\\x00\\x00\\x00\\x0e\\x00\\x0c\\x00\\x00\\t127.0.0.1\\x00\\x0b\\x00\\x04\\x03\\x00\\x01\\x02\\x00\\n\\x00\\x0c\\x00\\n\\x00\\x1d\\x00\\x17\\x00\\x1e\\x00\\x19\\x00\\x18\\x00#\\x00\\x00\\x00\\x16\\x00\\x00\\x00\\x17\\x00\\x00\\x00\\r\\x000\\x00.\\x04\\x03\\x05\\x03\\x06\\x03\\x08\\x07\\x08\"]\n",
            "Bad pipe message: %s [b'\\t\\x08\\n\\x08\\x0b\\x08\\x04']\n",
            "Bad pipe message: %s [b'\\x08\\x06\\x04\\x01\\x05\\x01\\x06', b'', b'\\x03\\x03']\n",
            "Bad pipe message: %s [b'']\n",
            "Bad pipe message: %s [b'', b'\\x02']\n",
            "Bad pipe message: %s [b'\\x05\\x02\\x06']\n",
            "Bad pipe message: %s [b\"\\xb6\\xc6\\x0eL(~\\x07\\xb7o\\xd3\\x11\\xd7a\\xfe$\\x91\\xf9\\xef\\x00\\x00\\xa6\\xc0,\\xc00\\x00\\xa3\\x00\\x9f\\xcc\\xa9\\xcc\\xa8\\xcc\\xaa\\xc0\\xaf\\xc0\\xad\\xc0\\xa3\\xc0\\x9f\\xc0]\\xc0a\\xc0W\\xc0S\\xc0+\\xc0/\\x00\\xa2\\x00\\x9e\\xc0\\xae\\xc0\\xac\\xc0\\xa2\\xc0\\x9e\\xc0\\\\\\xc0`\\xc0V\\xc0R\\xc0$\\xc0(\\x00k\\x00j\\xc0s\\xc0w\\x00\\xc4\\x00\\xc3\\xc0#\\xc0'\\x00g\\x00@\\xc0r\\xc0v\\x00\\xbe\\x00\\xbd\\xc0\\n\\xc0\\x14\\x009\\x008\\x00\\x88\\x00\\x87\\xc0\\t\\xc0\\x13\\x003\\x002\\x00\\x9a\\x00\\x99\\x00E\\x00D\\xc0\\x07\\xc0\\x11\\xc0\\x08\\xc0\\x12\\x00\\x16\\x00\\x13\\x00\\x9d\\xc0\\xa1\\xc0\\x9d\\xc0\"]\n",
            "Bad pipe message: %s [b'\\x9c\\xc0\\xa0\\xc0\\x9c\\xc0P\\x00=\\x00\\xc0\\x00<\\x00\\xba\\x005\\x00\\x84\\x00/\\x00\\x96\\x00A\\x00\\x05\\x00\\n\\x00\\xff\\x01\\x00\\x00j\\x00\\x00\\x00\\x0e\\x00\\x0c\\x00\\x00\\t127.0.0.1\\x00\\x0b\\x00\\x04\\x03\\x00\\x01\\x02\\x00\\n\\x00\\x0c\\x00\\n\\x00\\x1d\\x00\\x17\\x00\\x1e\\x00\\x19\\x00\\x18\\x00#\\x00']\n",
            "Bad pipe message: %s [b\"ph\\xe7\\xd9\\xd2\\x05\\x0f\\xa3\\xa7\\xad\\x01'n\\xe1l\\xfd\\x12\\x9e\\x00\\x00>\\xc0\\x14\\xc0\\n\\x009\\x008\\x007\\x006\\xc0\\x0f\\xc0\\x05\\x005\\xc0\\x13\\xc0\\t\\x003\\x002\\x001\"]\n",
            "Bad pipe message: %s [b'MK!ki\\x8f\\xf6\\xe4eEr\\xcbZt\\x96\\x94\\xd5\\x94\\x00\\x00\\xa2\\xc0\\x14\\xc0\\n\\x009\\x008\\x007\\x006\\x00\\x88\\x00\\x87\\x00\\x86\\x00\\x85\\xc0\\x19\\x00:\\x00']\n",
            "Bad pipe message: %s [b'\\x0f\\xc0\\x05\\x005\\x00\\x84\\xc0\\x13\\xc0\\t\\x003\\x002\\x001\\x000\\x00\\x9a\\x00\\x99\\x00\\x98\\x00\\x97\\x00E\\x00D\\x00C\\x00B\\xc0\\x18\\x004\\x00\\x9b\\x00F\\xc0\\x0e\\xc0\\x04\\x00/\\x00\\x96\\x00A\\x00\\x07\\xc0\\x11\\xc0\\x07\\xc0\\x16\\x00\\x18\\xc0\\x0c\\xc0\\x02\\x00\\x05\\x00\\x04\\xc0\\x12\\xc0\\x08\\x00\\x16\\x00\\x13\\x00\\x10\\x00\\r\\xc0\\x17\\x00\\x1b\\xc0\\r\\xc0\\x03\\x00\\n\\x00\\x15\\x00\\x12\\x00\\x0f\\x00\\x0c\\x00\\x1a\\x00\\t\\x00\\x14\\x00\\x11\\x00\\x19\\x00\\x08\\x00\\x06\\x00\\x17\\x00\\x03\\xc0\\x10\\xc0\\x06\\xc0\\x15\\xc0\\x0b\\xc0\\x01\\x00\\x02\\x00\\x01\\x00\\xff\\x02']\n",
            "Bad pipe message: %s [b'']\n",
            "Bad pipe message: %s [b'\\xf6\\x15%p\\xcfIJ6V\\x0f\\xe0\\x9d\\x80(z\\xedi\\x88\\x00\\x00>\\xc0\\x14\\xc0\\n\\x009\\x008\\x007\\x006\\xc0\\x0f\\xc0\\x05\\x005\\xc0\\x13\\xc0\\t\\x003\\x002\\x001\\x000\\xc0\\x0e\\xc0\\x04\\x00/\\x00\\x9a\\x00\\x99\\x00\\x98\\x00\\x97\\x00\\x96\\x00\\x07\\xc0\\x11\\xc0\\x07\\xc0\\x0c\\xc0']\n",
            "Bad pipe message: %s [b'\\x05']\n",
            "Bad pipe message: %s [b'58nRY3L\\xdfi\\x02\\x81\\xf6\\xd7\\x19DT&L\\x00\\x00\\xa2\\xc0\\x14\\xc0\\n\\x009\\x008\\x007\\x006\\x00\\x88\\x00\\x87\\x00\\x86\\x00\\x85\\xc0\\x19\\x00:\\x00\\x89\\xc0\\x0f\\xc0\\x05\\x005\\x00\\x84\\xc0\\x13\\xc0\\t\\x003\\x002\\x001\\x000\\x00\\x9a\\x00\\x99\\x00\\x98\\x00\\x97\\x00E\\x00D\\x00C\\x00B\\xc0\\x18\\x004\\x00\\x9b\\x00F\\xc0\\x0e\\xc0\\x04\\x00/\\x00\\x96\\x00A\\x00\\x07\\xc0\\x11\\xc0\\x07\\xc0\\x16\\x00\\x18']\n",
            "Bad pipe message: %s [b\"\\xa5\\xc06\\xa9\\xa9\\x89\\xbc\\n00\\xb3L\\x9b\\xb5\\xae\\xc4\\x00\\xb5\\x00\\x00\\x86\\xc00\\xc0,\\xc0(\\xc0$\\xc0\\x14\\xc0\\n\\x00\\xa5\\x00\\xa3\\x00\\xa1\\x00\\x9f\\x00k\\x00j\\x00i\\x00h\\x009\\x008\\x007\\x006\\xc02\\xc0.\\xc0*\\xc0&\\xc0\\x0f\\xc0\\x05\\x00\\x9d\\x00=\\x005\\xc0/\\xc0+\\xc0'\\xc0#\\xc0\\x13\\xc0\\t\\x00\\xa4\\x00\\xa2\\x00\\xa0\\x00\\x9e\\x00g\\x00@\\x00?\\x00>\\x003\\x002\\x001\\x000\\xc01\\xc0-\\xc0)\\xc0%\\xc0\\x0e\\xc0\\x04\\x00\\x9c\\x00<\\x00/\\x00\\x9a\\x00\\x99\\x00\\x98\\x00\\x97\\x00\\x96\\x00\\x07\\xc0\", b'\\x07\\xc0\\x0c\\xc0\\x02\\x00\\x05\\x00\\x04\\x00\\xff\\x02\\x01\\x00\\x00g']\n"
          ]
        },
        {
          "name": "stdout",
          "output_type": "stream",
          "text": [
            "Epoch [79/100], Loss: 1.4278\n",
            "Epoch [80/100], Loss: 1.9710\n",
            "Epoch [81/100], Loss: 2.1946\n",
            "Epoch [82/100], Loss: 1.4528\n",
            "Epoch [83/100], Loss: 1.6280\n",
            "Epoch [84/100], Loss: 1.4484\n",
            "Epoch [85/100], Loss: 2.0927\n",
            "Epoch [86/100], Loss: 1.7937\n",
            "Epoch [87/100], Loss: 2.2727\n",
            "Epoch [88/100], Loss: 1.3625\n",
            "Epoch [89/100], Loss: 1.7902\n",
            "Epoch [90/100], Loss: 1.3918\n",
            "Epoch [91/100], Loss: 1.3439\n",
            "Epoch [92/100], Loss: 1.4257\n",
            "Epoch [93/100], Loss: 1.3435\n",
            "Epoch [94/100], Loss: 1.9166\n",
            "Epoch [95/100], Loss: 1.7181\n",
            "Epoch [96/100], Loss: 1.9610\n",
            "Epoch [97/100], Loss: 1.9183\n",
            "Epoch [98/100], Loss: 2.1818\n",
            "Epoch [99/100], Loss: 1.5189\n",
            "Epoch [100/100], Loss: 1.4018\n"
          ]
        }
      ],
      "source": [
        "model = ConvNeuralNet(num_classes)\n",
        "\n",
        "# Set Loss function with criterion\n",
        "criterion = nn.CrossEntropyLoss()\n",
        "\n",
        "# Set optimizer\n",
        "optimizer = torch.optim.SGD(model.parameters(),\n",
        "                            lr=learning_rate,\n",
        "                            weight_decay=0.005,\n",
        "                            momentum = 0.9)  \n",
        "\n",
        "total_step = len(train_loader)\n",
        "\n",
        "model.to(device)\n",
        "\n",
        "# We use the pre-defined number of epochs to determine how many iterations to train the network on\n",
        "for epoch in range(num_epochs):\n",
        "\t#Load in the data in batches using the train_loader object\n",
        "    for i, (images, labels) in enumerate(train_loader):  \n",
        "        # Move tensors to the configured device\n",
        "        images = images.to(device)\n",
        "        labels = labels.to(device)\n",
        "        \n",
        "        # Forward pass\n",
        "        outputs = model(images)\n",
        "        loss = criterion(outputs, labels)\n",
        "        \n",
        "        # Backward and optimize\n",
        "        optimizer.zero_grad()\n",
        "        loss.backward()\n",
        "        optimizer.step()\n",
        "\n",
        "    print('Epoch [{}/{}], Loss: {:.4f}'.format(epoch + 1, num_epochs, loss.item()))"
      ]
    }
  ],
  "metadata": {
    "kernel_info": {
      "name": "python38-azureml-pt-tf"
    },
    "kernelspec": {
      "display_name": "Python 3.8 - Pytorch and Tensorflow",
      "language": "python",
      "name": "python38-azureml-pt-tf"
    },
    "language_info": {
      "codemirror_mode": {
        "name": "ipython",
        "version": 3
      },
      "file_extension": ".py",
      "mimetype": "text/x-python",
      "name": "python",
      "nbconvert_exporter": "python",
      "pygments_lexer": "ipython3",
      "version": "3.8.5"
    },
    "microsoft": {
      "host": {
        "AzureML": {
          "notebookHasBeenCompleted": true
        }
      },
      "ms_spell_check": {
        "ms_spell_check_language": "en"
      }
    },
    "nteract": {
      "version": "nteract-front-end@1.0.0"
    }
  },
  "nbformat": 4,
  "nbformat_minor": 2
}

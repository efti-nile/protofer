{
  "cells": [
    {
      "cell_type": "code",
      "execution_count": 1,
      "metadata": {
        "gather": {
          "logged": 1677985034827
        },
        "jupyter": {
          "outputs_hidden": false,
          "source_hidden": false
        },
        "nteract": {
          "transient": {
            "deleting": false
          }
        }
      },
      "outputs": [
        {
          "name": "stdout",
          "output_type": "stream",
          "text": [
            "Requirement already satisfied: albumentations in /anaconda/envs/azureml_py38_PT_TF/lib/python3.8/site-packages (1.3.1)\n",
            "Requirement already satisfied: scikit-image>=0.16.1 in /anaconda/envs/azureml_py38_PT_TF/lib/python3.8/site-packages (from albumentations) (0.21.0)\n",
            "Requirement already satisfied: scipy>=1.1.0 in /anaconda/envs/azureml_py38_PT_TF/lib/python3.8/site-packages (from albumentations) (1.10.1)\n",
            "Requirement already satisfied: numpy>=1.11.1 in /anaconda/envs/azureml_py38_PT_TF/lib/python3.8/site-packages (from albumentations) (1.23.5)\n",
            "Requirement already satisfied: PyYAML in /anaconda/envs/azureml_py38_PT_TF/lib/python3.8/site-packages (from albumentations) (6.0)\n",
            "Requirement already satisfied: qudida>=0.0.4 in /anaconda/envs/azureml_py38_PT_TF/lib/python3.8/site-packages (from albumentations) (0.0.4)\n",
            "Requirement already satisfied: opencv-python-headless>=4.1.1 in /anaconda/envs/azureml_py38_PT_TF/lib/python3.8/site-packages (from albumentations) (4.8.0.76)\n",
            "Requirement already satisfied: typing-extensions in /anaconda/envs/azureml_py38_PT_TF/lib/python3.8/site-packages (from qudida>=0.0.4->albumentations) (4.6.3)\n",
            "Requirement already satisfied: scikit-learn>=0.19.1 in /anaconda/envs/azureml_py38_PT_TF/lib/python3.8/site-packages (from qudida>=0.0.4->albumentations) (1.2.2)\n",
            "Requirement already satisfied: PyWavelets>=1.1.1 in /anaconda/envs/azureml_py38_PT_TF/lib/python3.8/site-packages (from scikit-image>=0.16.1->albumentations) (1.4.1)\n",
            "Requirement already satisfied: imageio>=2.27 in /anaconda/envs/azureml_py38_PT_TF/lib/python3.8/site-packages (from scikit-image>=0.16.1->albumentations) (2.31.3)\n",
            "Requirement already satisfied: lazy_loader>=0.2 in /anaconda/envs/azureml_py38_PT_TF/lib/python3.8/site-packages (from scikit-image>=0.16.1->albumentations) (0.3)\n",
            "Requirement already satisfied: pillow>=9.0.1 in /anaconda/envs/azureml_py38_PT_TF/lib/python3.8/site-packages (from scikit-image>=0.16.1->albumentations) (9.5.0)\n",
            "Requirement already satisfied: packaging>=21 in /anaconda/envs/azureml_py38_PT_TF/lib/python3.8/site-packages (from scikit-image>=0.16.1->albumentations) (23.1)\n",
            "Requirement already satisfied: networkx>=2.8 in /anaconda/envs/azureml_py38_PT_TF/lib/python3.8/site-packages (from scikit-image>=0.16.1->albumentations) (3.1)\n",
            "Requirement already satisfied: tifffile>=2022.8.12 in /anaconda/envs/azureml_py38_PT_TF/lib/python3.8/site-packages (from scikit-image>=0.16.1->albumentations) (2023.7.10)\n",
            "Requirement already satisfied: joblib>=1.1.1 in /anaconda/envs/azureml_py38_PT_TF/lib/python3.8/site-packages (from scikit-learn>=0.19.1->qudida>=0.0.4->albumentations) (1.2.0)\n",
            "Requirement already satisfied: threadpoolctl>=2.0.0 in /anaconda/envs/azureml_py38_PT_TF/lib/python3.8/site-packages (from scikit-learn>=0.19.1->qudida>=0.0.4->albumentations) (3.1.0)\n",
            "Note: you may need to restart the kernel to use updated packages.\n"
          ]
        }
      ],
      "source": [
        "%pip install -U albumentations"
      ]
    },
    {
      "cell_type": "code",
      "execution_count": 1,
      "metadata": {
        "gather": {
          "logged": 1678241810853
        }
      },
      "outputs": [
        {
          "name": "stderr",
          "output_type": "stream",
          "text": [
            "/data/nvs/protofer/venv/lib/python3.8/site-packages/tqdm/auto.py:21: TqdmWarning: IProgress not found. Please update jupyter and ipywidgets. See https://ipywidgets.readthedocs.io/en/stable/user_install.html\n",
            "  from .autonotebook import tqdm as notebook_tqdm\n"
          ]
        }
      ],
      "source": [
        "%matplotlib inline\n",
        "%config InlineBackend.figure_format = 'retina'\n",
        "\n",
        "import matplotlib.pyplot as plt\n",
        "from pandas.core.common import flatten\n",
        "import copy\n",
        "import numpy as np\n",
        "import random\n",
        "\n",
        "import torch\n",
        "from torch import nn\n",
        "from torch import optim\n",
        "import torch.nn.functional as F\n",
        "from torchvision import datasets, transforms, models\n",
        "from torch.utils.data import Dataset, DataLoader\n",
        "\n",
        "import albumentations as A\n",
        "from albumentations.pytorch import ToTensorV2\n",
        "import cv2\n",
        "\n",
        "import glob\n",
        "import os\n",
        "from tqdm import tqdm"
      ]
    },
    {
      "attachments": {},
      "cell_type": "markdown",
      "metadata": {
        "nteract": {
          "transient": {
            "deleting": false
          }
        }
      },
      "source": [
        "# Parameters"
      ]
    },
    {
      "cell_type": "code",
      "execution_count": 4,
      "metadata": {
        "gather": {
          "logged": 1678241820027
        },
        "jupyter": {
          "outputs_hidden": false,
          "source_hidden": false
        },
        "nteract": {
          "transient": {
            "deleting": false
          }
        }
      },
      "outputs": [],
      "source": [
        "data_path = \"/data/nvs/protofer/data/fer2013\""
      ]
    },
    {
      "attachments": {},
      "cell_type": "markdown",
      "metadata": {
        "nteract": {
          "transient": {
            "deleting": false
          }
        }
      },
      "source": [
        "# Download Data"
      ]
    },
    {
      "cell_type": "code",
      "execution_count": 4,
      "metadata": {
        "gather": {
          "logged": 1677985035652
        },
        "jupyter": {
          "outputs_hidden": false,
          "source_hidden": false
        },
        "nteract": {
          "transient": {
            "deleting": false
          }
        }
      },
      "outputs": [],
      "source": [
        "# !mkdir /home/azureuser/data"
      ]
    },
    {
      "cell_type": "code",
      "execution_count": 5,
      "metadata": {
        "gather": {
          "logged": 1677985036217
        },
        "jupyter": {
          "outputs_hidden": false,
          "source_hidden": false
        },
        "nteract": {
          "transient": {
            "deleting": false
          }
        }
      },
      "outputs": [],
      "source": [
        "# !azcopy logout\n",
        "# !azcopy login --tenant-id=81aa9791-5f20-4a63-9ee9-94df31fad662"
      ]
    },
    {
      "cell_type": "code",
      "execution_count": 6,
      "metadata": {
        "gather": {
          "logged": 1677985036629
        },
        "jupyter": {
          "outputs_hidden": false,
          "source_hidden": false
        },
        "nteract": {
          "transient": {
            "deleting": false
          }
        }
      },
      "outputs": [],
      "source": [
        "# !azcopy cp {data_uri} {data_path}"
      ]
    },
    {
      "cell_type": "code",
      "execution_count": 7,
      "metadata": {
        "gather": {
          "logged": 1677985037038
        },
        "jupyter": {
          "outputs_hidden": false,
          "source_hidden": false
        },
        "nteract": {
          "transient": {
            "deleting": false
          }
        }
      },
      "outputs": [],
      "source": [
        "# !unzip \"/home/azureuser/data/fer2013.zip\" -d \"/home/azureuser/data\""
      ]
    },
    {
      "attachments": {},
      "cell_type": "markdown",
      "metadata": {
        "nteract": {
          "transient": {
            "deleting": false
          }
        }
      },
      "source": [
        "# Data Transforms"
      ]
    },
    {
      "cell_type": "code",
      "execution_count": 2,
      "metadata": {
        "gather": {
          "logged": 1678241831214
        },
        "jupyter": {
          "outputs_hidden": false,
          "source_hidden": false
        },
        "nteract": {
          "transient": {
            "deleting": false
          }
        }
      },
      "outputs": [],
      "source": [
        "train_transforms = A.Compose(\n",
        "    [\n",
        "        # A.SmallestMaxSize(max_size=350),\n",
        "        # A.ShiftScaleRotate(shift_limit=0.05, scale_limit=0.05, rotate_limit=360, p=0.5),\n",
        "        # A.RandomCrop(height=256, width=256),\n",
        "        # A.RGBShift(r_shift_limit=15, g_shift_limit=15, b_shift_limit=15, p=0.5),\n",
        "        A.RandomBrightnessContrast(p=0.5),\n",
        "        A.MultiplicativeNoise(multiplier=[0.5, 2], per_channel=True, p=0.2),\n",
        "        # A.Normalize(mean=(0.485, 0.456, 0.406), std=(0.229, 0.224, 0.225)),\n",
        "        A.Normalize(mean=.45, std=0.225),\n",
        "        # A.HueSaturationValue(hue_shift_limit=0.2, sat_shift_limit=0.2, val_shift_limit=0.2, p=0.5),\n",
        "        A.RandomBrightnessContrast(brightness_limit=(-0.1,0.1), contrast_limit=(-0.1, 0.1), p=0.5),\n",
        "        ToTensorV2(),\n",
        "    ]\n",
        ")\n",
        "\n",
        "test_transforms = train_transforms\n",
        "\n",
        "# test_transforms = A.Compose(\n",
        "#     [\n",
        "#         # A.SmallestMaxSize(max_size=350),\n",
        "#         # A.CenterCrop(height=256, width=256),\n",
        "#         # A.Normalize(mean=(0.485, 0.456, 0.406), std=(0.229, 0.224, 0.225)),\n",
        "#         A.Normalize(mean=.45, std=0.225),\n",
        "#         ToTensorV2(),\n",
        "#     ]\n",
        "# )"
      ]
    },
    {
      "attachments": {},
      "cell_type": "markdown",
      "metadata": {
        "nteract": {
          "transient": {
            "deleting": false
          }
        }
      },
      "source": [
        "# Data\n",
        "## Prepare"
      ]
    },
    {
      "cell_type": "code",
      "execution_count": 5,
      "metadata": {
        "gather": {
          "logged": 1678241836037
        },
        "jupyter": {
          "outputs_hidden": false,
          "source_hidden": false
        },
        "nteract": {
          "transient": {
            "deleting": false
          }
        }
      },
      "outputs": [],
      "source": [
        "train_data_path = os.path.join(data_path, 'train')\n",
        "test_data_path = os.path.join(data_path, 'test')"
      ]
    },
    {
      "cell_type": "code",
      "execution_count": 6,
      "metadata": {
        "gather": {
          "logged": 1678241839184
        },
        "jupyter": {
          "outputs_hidden": false,
          "source_hidden": false
        },
        "nteract": {
          "transient": {
            "deleting": false
          }
        }
      },
      "outputs": [
        {
          "data": {
            "text/plain": [
              "['surprise', 'neutral', 'disgust', 'sad', 'fear', 'angry', 'happy']"
            ]
          },
          "execution_count": 6,
          "metadata": {},
          "output_type": "execute_result"
        }
      ],
      "source": [
        "classes = []\n",
        "train_image_paths = []\n",
        "\n",
        "for data_path in glob.glob(train_data_path + '/*'):\n",
        "    classes.append(data_path.split('/')[-1]) \n",
        "    train_image_paths.append(glob.glob(data_path + '/*.jpg'))\n",
        "\n",
        "train_image_paths = list(flatten(train_image_paths))\n",
        "random.shuffle(train_image_paths)\n",
        "\n",
        "classes"
      ]
    },
    {
      "cell_type": "code",
      "execution_count": 7,
      "metadata": {
        "gather": {
          "logged": 1678241842938
        },
        "jupyter": {
          "outputs_hidden": false,
          "source_hidden": false
        },
        "nteract": {
          "transient": {
            "deleting": false
          }
        }
      },
      "outputs": [],
      "source": [
        "# Split train and valid datasets\n",
        "train_image_paths, valid_image_paths = train_image_paths[:int(0.8*len(train_image_paths))], train_image_paths[int(0.8*len(train_image_paths)):]"
      ]
    },
    {
      "cell_type": "code",
      "execution_count": 8,
      "metadata": {
        "gather": {
          "logged": 1678241845992
        },
        "jupyter": {
          "outputs_hidden": false,
          "source_hidden": false
        },
        "nteract": {
          "transient": {
            "deleting": false
          }
        }
      },
      "outputs": [],
      "source": [
        "# Test dataset\n",
        "test_image_paths = []\n",
        "for data_path in glob.glob(test_data_path + '/*'):\n",
        "    test_image_paths.append(glob.glob(data_path + '/*'))\n",
        "\n",
        "test_image_paths = list(flatten(test_image_paths))"
      ]
    },
    {
      "cell_type": "code",
      "execution_count": 9,
      "metadata": {
        "gather": {
          "logged": 1678241849426
        },
        "jupyter": {
          "outputs_hidden": false,
          "source_hidden": false
        },
        "nteract": {
          "transient": {
            "deleting": false
          }
        }
      },
      "outputs": [
        {
          "name": "stdout",
          "output_type": "stream",
          "text": [
            "Train size: 22967\n",
            "Valid size: 5742\n",
            "Test size: 7178\n"
          ]
        }
      ],
      "source": [
        "print(\"Train size: {}\\nValid size: {}\\nTest size: {}\".format(len(train_image_paths), len(valid_image_paths), len(test_image_paths)))"
      ]
    },
    {
      "cell_type": "code",
      "execution_count": 10,
      "metadata": {
        "gather": {
          "logged": 1678241853956
        },
        "jupyter": {
          "outputs_hidden": false,
          "source_hidden": false
        },
        "nteract": {
          "transient": {
            "deleting": false
          }
        }
      },
      "outputs": [],
      "source": [
        "# Encode classes\n",
        "idx_to_class = {i:j for i, j in enumerate(classes)}\n",
        "class_to_idx = {value:key for key,value in idx_to_class.items()}"
      ]
    },
    {
      "attachments": {},
      "cell_type": "markdown",
      "metadata": {
        "nteract": {
          "transient": {
            "deleting": false
          }
        }
      },
      "source": [
        "## Class Counts\n",
        "### Train"
      ]
    },
    {
      "cell_type": "code",
      "execution_count": 11,
      "metadata": {
        "gather": {
          "logged": 1678241856965
        },
        "jupyter": {
          "outputs_hidden": false,
          "source_hidden": false
        },
        "nteract": {
          "transient": {
            "deleting": false
          }
        }
      },
      "outputs": [
        {
          "name": "stdout",
          "output_type": "stream",
          "text": [
            "~~~ TRAIN ~~~\n",
            "surprise images: 3171\n",
            "neutral images: 4965\n",
            "disgust images: 436\n",
            "sad images: 4830\n",
            "fear images: 4097\n",
            "angry images: 3995\n",
            "happy images: 7215\n",
            "~~~ TEST ~~~\n",
            "surprise images: 831\n",
            "neutral images: 1233\n",
            "disgust images: 111\n",
            "sad images: 1247\n",
            "fear images: 1024\n",
            "angry images: 958\n",
            "happy images: 1774\n"
          ]
        }
      ],
      "source": [
        "print('~~~ TRAIN ~~~')\n",
        "for cls in classes:\n",
        "    print(f'{cls} images: {len(os.listdir(os.path.join(train_data_path, cls)))}')\n",
        "\n",
        "print('~~~ TEST ~~~')\n",
        "for cls in classes:\n",
        "    print(f'{cls} images: {len(os.listdir(os.path.join(test_data_path, cls)))}')"
      ]
    },
    {
      "attachments": {},
      "cell_type": "markdown",
      "metadata": {
        "nteract": {
          "transient": {
            "deleting": false
          }
        }
      },
      "source": [
        "## Dataset Class"
      ]
    },
    {
      "cell_type": "code",
      "execution_count": 12,
      "metadata": {
        "gather": {
          "logged": 1678241877042
        },
        "jupyter": {
          "outputs_hidden": false,
          "source_hidden": false
        },
        "nteract": {
          "transient": {
            "deleting": false
          }
        }
      },
      "outputs": [],
      "source": [
        "class FerDataset(Dataset):\n",
        "    def __init__(self, image_paths, transform=None):\n",
        "        self.image_paths = image_paths\n",
        "        self.transform = transform\n",
        "        \n",
        "    def __len__(self):\n",
        "        return len(self.image_paths)\n",
        "\n",
        "    def __getitem__(self, idx):\n",
        "        image_filepath = self.image_paths[idx]\n",
        "        image = cv2.imread(image_filepath)\n",
        "        image = cv2.cvtColor(image, cv2.COLOR_BGR2GRAY)\n",
        "        \n",
        "        label = image_filepath.split('/')[-2]\n",
        "        label = class_to_idx[label]\n",
        "        if self.transform is not None:\n",
        "            image = self.transform(image=image)[\"image\"]\n",
        "        \n",
        "        return image, label"
      ]
    },
    {
      "cell_type": "code",
      "execution_count": 13,
      "metadata": {
        "gather": {
          "logged": 1678241879601
        },
        "jupyter": {
          "outputs_hidden": false,
          "source_hidden": false
        },
        "nteract": {
          "transient": {
            "deleting": false
          }
        }
      },
      "outputs": [],
      "source": [
        "train_dataset = FerDataset(train_image_paths, train_transforms)\n",
        "valid_dataset = FerDataset(valid_image_paths, test_transforms)\n",
        "test_dataset = FerDataset(test_image_paths, test_transforms)"
      ]
    },
    {
      "cell_type": "code",
      "execution_count": 14,
      "metadata": {
        "gather": {
          "logged": 1678241882818
        },
        "jupyter": {
          "outputs_hidden": false,
          "source_hidden": false
        },
        "nteract": {
          "transient": {
            "deleting": false
          }
        }
      },
      "outputs": [
        {
          "name": "stdout",
          "output_type": "stream",
          "text": [
            "The shape of tensor for 50th image in train dataset:  torch.Size([1, 48, 48])\n",
            "The label for 50th image in train dataset:  3\n"
          ]
        }
      ],
      "source": [
        "print('The shape of tensor for 50th image in train dataset: ', train_dataset[49][0].shape)\n",
        "print('The label for 50th image in train dataset: ', train_dataset[49][1])"
      ]
    },
    {
      "attachments": {},
      "cell_type": "markdown",
      "metadata": {
        "nteract": {
          "transient": {
            "deleting": false
          }
        }
      },
      "source": [
        "## Visualize Augmented Images"
      ]
    },
    {
      "cell_type": "code",
      "execution_count": 15,
      "metadata": {
        "gather": {
          "logged": 1678241891641
        },
        "jupyter": {
          "outputs_hidden": false,
          "source_hidden": false
        },
        "nteract": {
          "transient": {
            "deleting": false
          }
        }
      },
      "outputs": [
        {
          "data": {
            "image/png": "[encoded data removed]",
            "text/plain": [
              "<Figure size 1200x800 with 10 Axes>"
            ]
          },
          "metadata": {
            "image/png": {
              "height": 609,
              "width": 1192
            }
          },
          "output_type": "display_data"
        }
      ],
      "source": [
        "import matplotlib.pyplot as plt\n",
        "%matplotlib inline\n",
        "\n",
        "\n",
        "def visualize_augmentations(dataset, idx=0, samples=10, cols=5, random_img = False):\n",
        "    \n",
        "    dataset = copy.deepcopy(dataset)\n",
        "    #we remove the normalize and tensor conversion from our augmentation pipeline\n",
        "    dataset.transform = A.Compose([t for t in dataset.transform if not isinstance(t, (A.Normalize, ToTensorV2))])\n",
        "    rows = samples // cols\n",
        "      \n",
        "    figure, ax = plt.subplots(nrows=rows, ncols=cols, figsize=(12, 8))\n",
        "    for i in range(samples):\n",
        "        if random_img:\n",
        "            idx = np.random.randint(1,len(train_image_paths))\n",
        "        image, lab = dataset[idx]\n",
        "        ax.ravel()[i].imshow(image)\n",
        "        ax.ravel()[i].set_axis_off()\n",
        "        ax.ravel()[i].set_title(idx_to_class[lab])\n",
        "    plt.tight_layout(pad=1)\n",
        "    plt.show()    \n",
        "\n",
        "visualize_augmentations(train_dataset,np.random.randint(1,len(train_image_paths)), random_img = True)"
      ]
    },
    {
      "attachments": {},
      "cell_type": "markdown",
      "metadata": {
        "nteract": {
          "transient": {
            "deleting": false
          }
        }
      },
      "source": [
        "## Data Loaders"
      ]
    },
    {
      "cell_type": "code",
      "execution_count": 16,
      "metadata": {
        "gather": {
          "logged": 1678241899971
        },
        "jupyter": {
          "outputs_hidden": false,
          "source_hidden": false
        },
        "nteract": {
          "transient": {
            "deleting": false
          }
        }
      },
      "outputs": [],
      "source": [
        "batch_size = 2\n",
        "\n",
        "train_loader = DataLoader(\n",
        "    train_dataset, batch_size=batch_size, shuffle=True\n",
        ")\n",
        "\n",
        "valid_loader = DataLoader(\n",
        "    valid_dataset, batch_size=batch_size, shuffle=True\n",
        ")\n",
        "\n",
        "test_loader = DataLoader(\n",
        "    test_dataset, batch_size=batch_size, shuffle=False\n",
        ")"
      ]
    },
    {
      "cell_type": "code",
      "execution_count": 17,
      "metadata": {},
      "outputs": [
        {
          "name": "stdout",
          "output_type": "stream",
          "text": [
            "torch.Size([2, 1, 48, 48])\n"
          ]
        }
      ],
      "source": [
        "tl = DataLoader(\n",
        "    train_dataset, batch_size=batch_size, shuffle=True\n",
        ")\n",
        "images, labels = next(iter(tl))\n",
        "print(images.shape)"
      ]
    },
    {
      "cell_type": "code",
      "execution_count": 19,
      "metadata": {},
      "outputs": [
        {
          "data": {
            "text/plain": [
              "torch.Size([48, 48])"
            ]
          },
          "execution_count": 19,
          "metadata": {},
          "output_type": "execute_result"
        }
      ],
      "source": [
        "image = images[0, 0, :, :]\n",
        "image.shape"
      ]
    },
    {
      "attachments": {},
      "cell_type": "markdown",
      "metadata": {
        "nteract": {
          "transient": {
            "deleting": false
          }
        }
      },
      "source": [
        "# Training"
      ]
    },
    {
      "attachments": {},
      "cell_type": "markdown",
      "metadata": {
        "nteract": {
          "transient": {
            "deleting": false
          }
        }
      },
      "source": [
        "Implementing Model B:\n",
        "![cnn-diagram](https://github.com/amineHorseman/facial-expression-recognition-using-cnn/raw/master/img/CNN_models_architecture.png)"
      ]
    },
    {
      "cell_type": "code",
      "execution_count": 23,
      "metadata": {},
      "outputs": [
        {
          "data": {
            "text/plain": [
              "device(type='cuda')"
            ]
          },
          "execution_count": 23,
          "metadata": {},
          "output_type": "execute_result"
        }
      ],
      "source": [
        "# Define relevant variables for the ML task\n",
        "num_classes = len(classes)\n",
        "learning_rate = 0.001\n",
        "num_epochs = 100\n",
        "\n",
        "# Device will determine whether to run the training on GPU or CPU.\n",
        "device = torch.device('cuda' if torch.cuda.is_available() else 'cpu')\n",
        "device"
      ]
    },
    {
      "cell_type": "code",
      "execution_count": 21,
      "metadata": {},
      "outputs": [],
      "source": [
        "class ConvNeuralNet(nn.Module):\n",
        "\n",
        "    def __init__(self, num_classes):\n",
        "        super(ConvNeuralNet, self).__init__()\n",
        "        self.conv_layer1 = nn.Conv2d(in_channels=1, out_channels=32, kernel_size=4, stride=2)\n",
        "        self.dropout1 = nn.Dropout2d(p=.8)\n",
        "        self.relu1 = nn.ReLU()\n",
        "        \n",
        "        self.conv_layer2 = nn.Conv2d(in_channels=32, out_channels=64, kernel_size=3, stride=2)\n",
        "        self.dropout2 = nn.Dropout2d(p=.8)\n",
        "        self.relu2 = nn.ReLU()\n",
        "        \n",
        "        self.conv_layer3 = nn.Conv2d(in_channels=64, out_channels=128, kernel_size=3, stride=2)\n",
        "        self.dropout3 = nn.Dropout3d(p=.8)\n",
        "        self.relu3 = nn.ReLU()\n",
        "        \n",
        "        self.fc1 = nn.Linear(3200, 128)\n",
        "        self.relu1 = nn.ReLU()\n",
        "        self.fc2 = nn.Linear(128, num_classes)\n",
        "    \n",
        "    def forward(self, x):\n",
        "        out = self.conv_layer1(x)\n",
        "        out = self.dropout1(out)\n",
        "        out = self.relu1(out)\n",
        "\n",
        "        out = self.conv_layer2(out)\n",
        "        out = self.dropout2(out)\n",
        "        out = self.relu2(out)\n",
        "        \n",
        "        out = self.conv_layer3(out)\n",
        "        out = self.dropout3(out)\n",
        "        out = self.relu3(out)\n",
        "                \n",
        "        out = out.reshape(out.size(0), -1)\n",
        "        \n",
        "        out = self.fc1(out)\n",
        "        out = self.relu1(out)\n",
        "        out = self.fc2(out)\n",
        "        return out"
      ]
    },
    {
      "cell_type": "code",
      "execution_count": 22,
      "metadata": {},
      "outputs": [
        {
          "data": {
            "text/plain": [
              "503527"
            ]
          },
          "execution_count": 22,
          "metadata": {},
          "output_type": "execute_result"
        }
      ],
      "source": [
        "m = ConvNeuralNet(num_classes)\n",
        "params = sum(p.numel() for p in m.parameters())\n",
        "params"
      ]
    },
    {
      "cell_type": "code",
      "execution_count": 24,
      "metadata": {
        "gather": {
          "logged": 1678242084243
        },
        "jupyter": {
          "outputs_hidden": false,
          "source_hidden": false
        },
        "nteract": {
          "transient": {
            "deleting": false
          }
        }
      },
      "outputs": [
        {
          "name": "stdout",
          "output_type": "stream",
          "text": [
            "Epoch [1/100], Loss: 1.9432\n",
            "Epoch [2/100], Loss: 1.9697\n",
            "Epoch [3/100], Loss: 2.1272\n",
            "Epoch [4/100], Loss: 1.4879\n",
            "Epoch [5/100], Loss: 1.4541\n",
            "Epoch [6/100], Loss: 2.0221\n",
            "Epoch [7/100], Loss: 1.8601\n",
            "Epoch [8/100], Loss: 1.3952\n",
            "Epoch [9/100], Loss: 2.1880\n",
            "Epoch [10/100], Loss: 1.3971\n",
            "Epoch [11/100], Loss: 1.8110\n",
            "Epoch [12/100], Loss: 1.7365\n",
            "Epoch [13/100], Loss: 1.9930\n",
            "Epoch [14/100], Loss: 1.6891\n",
            "Epoch [15/100], Loss: 2.1508\n",
            "Epoch [16/100], Loss: 1.9559\n",
            "Epoch [17/100], Loss: 1.9712\n",
            "Epoch [18/100], Loss: 2.2150\n",
            "Epoch [19/100], Loss: 1.4204\n",
            "Epoch [20/100], Loss: 1.7645\n",
            "Epoch [21/100], Loss: 1.3427\n",
            "Epoch [22/100], Loss: 1.3473\n",
            "Epoch [23/100], Loss: 1.7470\n",
            "Epoch [24/100], Loss: 1.3831\n",
            "Epoch [25/100], Loss: 1.8988\n",
            "Epoch [26/100], Loss: 1.7147\n",
            "Epoch [27/100], Loss: 1.3259\n",
            "Epoch [28/100], Loss: 1.7073\n",
            "Epoch [29/100], Loss: 1.4189\n",
            "Epoch [30/100], Loss: 2.1348\n",
            "Epoch [31/100], Loss: 2.1808\n",
            "Epoch [32/100], Loss: 1.6172\n",
            "Epoch [33/100], Loss: 1.3503\n",
            "Epoch [34/100], Loss: 1.3795\n",
            "Epoch [35/100], Loss: 1.3575\n",
            "Epoch [36/100], Loss: 1.7463\n",
            "Epoch [37/100], Loss: 1.7836\n",
            "Epoch [38/100], Loss: 1.3480\n",
            "Epoch [39/100], Loss: 1.7965\n",
            "Epoch [40/100], Loss: 1.7020\n",
            "Epoch [41/100], Loss: 1.6916\n",
            "Epoch [42/100], Loss: 1.3642\n",
            "Epoch [43/100], Loss: 1.5151\n",
            "Epoch [44/100], Loss: 2.2641\n",
            "Epoch [45/100], Loss: 1.7458\n",
            "Epoch [46/100], Loss: 1.3095\n",
            "Epoch [47/100], Loss: 1.3908\n",
            "Epoch [48/100], Loss: 2.0512\n",
            "Epoch [49/100], Loss: 2.2820\n",
            "Epoch [50/100], Loss: 2.2303\n",
            "Epoch [51/100], Loss: 1.9428\n",
            "Epoch [52/100], Loss: 1.9752\n",
            "Epoch [53/100], Loss: 1.7659\n",
            "Epoch [54/100], Loss: 1.8096\n",
            "Epoch [55/100], Loss: 1.3714\n",
            "Epoch [56/100], Loss: 1.8409\n",
            "Epoch [57/100], Loss: 2.1684\n",
            "Epoch [58/100], Loss: 1.8367\n",
            "Epoch [59/100], Loss: 1.8325\n",
            "Epoch [60/100], Loss: 1.3726\n",
            "Epoch [61/100], Loss: 1.9993\n",
            "Epoch [62/100], Loss: 1.7831\n",
            "Epoch [63/100], Loss: 1.9941\n",
            "Epoch [64/100], Loss: 2.1266\n",
            "Epoch [65/100], Loss: 1.7852\n",
            "Epoch [66/100], Loss: 1.9948\n",
            "Epoch [67/100], Loss: 2.0019\n",
            "Epoch [68/100], Loss: 1.8566\n",
            "Epoch [69/100], Loss: 1.3945\n",
            "Epoch [70/100], Loss: 1.7774\n",
            "Epoch [71/100], Loss: 1.8074\n",
            "Epoch [72/100], Loss: 2.2073\n",
            "Epoch [73/100], Loss: 1.8823\n",
            "Epoch [74/100], Loss: 1.3449\n",
            "Epoch [75/100], Loss: 1.3464\n",
            "Epoch [76/100], Loss: 1.4170\n",
            "Epoch [77/100], Loss: 1.5028\n",
            "Epoch [78/100], Loss: 2.2031\n",
            "Epoch [79/100], Loss: 1.8483\n",
            "Epoch [80/100], Loss: 1.3953\n",
            "Epoch [81/100], Loss: 1.7362\n",
            "Epoch [82/100], Loss: 1.9096\n",
            "Epoch [83/100], Loss: 1.9920\n",
            "Epoch [84/100], Loss: 1.7800\n",
            "Epoch [85/100], Loss: 1.5147\n",
            "Epoch [86/100], Loss: 1.8742\n",
            "Epoch [87/100], Loss: 2.0828\n",
            "Epoch [88/100], Loss: 1.9182\n",
            "Epoch [89/100], Loss: 1.4039\n",
            "Epoch [90/100], Loss: 1.7812\n",
            "Epoch [91/100], Loss: 1.4603\n",
            "Epoch [92/100], Loss: 1.9312\n",
            "Epoch [93/100], Loss: 1.7501\n",
            "Epoch [94/100], Loss: 1.8755\n",
            "Epoch [95/100], Loss: 2.0183\n",
            "Epoch [96/100], Loss: 1.9194\n",
            "Epoch [97/100], Loss: 1.6922\n",
            "Epoch [98/100], Loss: 1.8994\n",
            "Epoch [99/100], Loss: 1.7580\n",
            "Epoch [100/100], Loss: 1.9942\n"
          ]
        }
      ],
      "source": [
        "model = ConvNeuralNet(num_classes)\n",
        "\n",
        "# Set Loss function with criterion\n",
        "criterion = nn.CrossEntropyLoss()\n",
        "\n",
        "# Set optimizer\n",
        "optimizer = torch.optim.SGD(model.parameters(),\n",
        "                            lr=learning_rate,\n",
        "                            weight_decay=0.005,\n",
        "                            momentum = 0.9)  \n",
        "\n",
        "total_step = len(train_loader)\n",
        "\n",
        "model.to(device)\n",
        "\n",
        "# We use the pre-defined number of epochs to determine how many iterations to train the network on\n",
        "for epoch in range(num_epochs):\n",
        "\t#Load in the data in batches using the train_loader object\n",
        "    for i, (images, labels) in enumerate(train_loader):  \n",
        "        # Move tensors to the configured device\n",
        "        images = images.to(device)\n",
        "        labels = labels.to(device)\n",
        "        \n",
        "        # Forward pass\n",
        "        outputs = model(images)\n",
        "        loss = criterion(outputs, labels)\n",
        "        \n",
        "        # Backward and optimize\n",
        "        optimizer.zero_grad()\n",
        "        loss.backward()\n",
        "        optimizer.step()\n",
        "\n",
        "    print('Epoch [{}/{}], Loss: {:.4f}'.format(epoch + 1, num_epochs, loss.item()))"
      ]
    }
  ],
  "metadata": {
    "kernel_info": {
      "name": "python38-azureml-pt-tf"
    },
    "kernelspec": {
      "display_name": "venv",
      "language": "python",
      "name": "python3"
    },
    "language_info": {
      "codemirror_mode": {
        "name": "ipython",
        "version": 3
      },
      "file_extension": ".py",
      "mimetype": "text/x-python",
      "name": "python",
      "nbconvert_exporter": "python",
      "pygments_lexer": "ipython3",
      "version": "3.8.10"
    },
    "microsoft": {
      "host": {
        "AzureML": {
          "notebookHasBeenCompleted": true
        }
      },
      "ms_spell_check": {
        "ms_spell_check_language": "en"
      }
    },
    "nteract": {
      "version": "nteract-front-end@1.0.0"
    }
  },
  "nbformat": 4,
  "nbformat_minor": 2
}
